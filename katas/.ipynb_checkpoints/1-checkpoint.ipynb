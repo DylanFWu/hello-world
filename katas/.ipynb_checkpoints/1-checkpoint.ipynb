{
 "cells": [
  {
   "cell_type": "code",
   "execution_count": 2,
   "id": "4c728c5a-9e51-4ef9-9141-6534d4d6df80",
   "metadata": {},
   "outputs": [
    {
     "name": "stdout",
     "output_type": "stream",
     "text": [
      "11\n",
      "5\n",
      "126\n"
     ]
    }
   ],
   "source": [
    "def sumLargestNumbers(list):\n",
    "    list.sort()\n",
    "    return list[-1] + list[-2]\n",
    "\n",
    "print(sumLargestNumbers([1, 10]))\n",
    "print(sumLargestNumbers([1, 2, 3]))\n",
    "print(sumLargestNumbers([10, 4, 34, 6, 92, 2]))"
   ]
  }
 ],
 "metadata": {
  "kernelspec": {
   "display_name": "Python 3",
   "language": "python",
   "name": "python3"
  },
  "language_info": {
   "codemirror_mode": {
    "name": "ipython",
    "version": 3
   },
   "file_extension": ".py",
   "mimetype": "text/x-python",
   "name": "python",
   "nbconvert_exporter": "python",
   "pygments_lexer": "ipython3",
   "version": "3.8.8"
  }
 },
 "nbformat": 4,
 "nbformat_minor": 5
}
