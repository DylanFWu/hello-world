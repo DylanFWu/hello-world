{
 "cells": [
  {
   "cell_type": "code",
   "execution_count": 4,
   "id": "0b10a221-6e03-42e1-b505-ea76ccbd8c32",
   "metadata": {},
   "outputs": [
    {
     "name": "stdout",
     "output_type": "stream",
     "text": [
      "thisIsAString\n",
      "loopyLighthouse\n",
      "supercalifragalisticexpialidocious\n"
     ]
    }
   ],
   "source": [
    "def camelCase(s):\n",
    "    s.strip()\n",
    "    new = ''\n",
    "    for x in range(len(s)):\n",
    "        if s[x] == ' ':\n",
    "            continue\n",
    "        else:\n",
    "            if s[x-1] == ' ':\n",
    "                new += s[x].upper()\n",
    "            else:\n",
    "                new += s[x]\n",
    "            \n",
    "    return new\n",
    "            \n",
    "            \n",
    "\n",
    "print(camelCase(\"this is a string\"))\n",
    "print(camelCase(\"loopy lighthouse\"))\n",
    "print(camelCase(\"supercalifragalisticexpialidocious\"))"
   ]
  }
 ],
 "metadata": {
  "kernelspec": {
   "display_name": "Python 3",
   "language": "python",
   "name": "python3"
  },
  "language_info": {
   "codemirror_mode": {
    "name": "ipython",
    "version": 3
   },
   "file_extension": ".py",
   "mimetype": "text/x-python",
   "name": "python",
   "nbconvert_exporter": "python",
   "pygments_lexer": "ipython3",
   "version": "3.8.8"
  }
 },
 "nbformat": 4,
 "nbformat_minor": 5
}
