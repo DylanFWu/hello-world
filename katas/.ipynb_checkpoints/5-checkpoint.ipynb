{
 "cells": [
  {
   "cell_type": "code",
   "execution_count": 11,
   "id": "97338698-095f-4d12-92d2-e7a2fc2f5b85",
   "metadata": {},
   "outputs": [
    {
     "name": "stdout",
     "output_type": "stream",
     "text": [
      "Lighthouse%20Labs\n",
      "Lighthouse%20Labs\n",
      "blue%20is%20greener%20than%20purple%20for%20sure\n"
     ]
    }
   ],
   "source": [
    "def urlEncode(s):\n",
    "    new_s = s.strip()\n",
    "    final = ''\n",
    "    for x in new_s:\n",
    "        if x != ' ':\n",
    "            final += x\n",
    "        else:\n",
    "            final += '%20'\n",
    "    return final\n",
    "\n",
    "\n",
    "\n",
    "\n",
    "\n",
    "\n",
    "print(urlEncode(\"Lighthouse Labs\"))\n",
    "print(urlEncode(\" Lighthouse Labs  \"))\n",
    "print(urlEncode(\"blue is greener than purple for sure\"))\n"
   ]
  }
 ],
 "metadata": {
  "kernelspec": {
   "display_name": "Python 3",
   "language": "python",
   "name": "python3"
  },
  "language_info": {
   "codemirror_mode": {
    "name": "ipython",
    "version": 3
   },
   "file_extension": ".py",
   "mimetype": "text/x-python",
   "name": "python",
   "nbconvert_exporter": "python",
   "pygments_lexer": "ipython3",
   "version": "3.8.8"
  }
 },
 "nbformat": 4,
 "nbformat_minor": 5
}
