{
 "cells": [
  {
   "cell_type": "code",
   "execution_count": 7,
   "id": "4ec2ee60-05bf-4198-a2fc-98b2a555e864",
   "metadata": {},
   "outputs": [
    {
     "name": "stdout",
     "output_type": "stream",
     "text": [
      "[4, 0]\n",
      "False\n",
      "[3, 1]\n"
     ]
    }
   ],
   "source": [
    "def whereCanIPark(lot,car):\n",
    "    if car == 'regular':\n",
    "        for x in range(len(lot)):\n",
    "            if 'R' in lot[x]:\n",
    "                return [lot[x].index('R'),x]\n",
    "        else:\n",
    "            return False\n",
    "    if car == 'small':\n",
    "        for x in range(len(lot)):\n",
    "            if 'S' in lot[x]:\n",
    "                return [lot[x].index('S'),x]\n",
    "            elif 'R' in lot[x]:\n",
    "                return [lot[x].index('R'),x]\n",
    "        else:\n",
    "            return False\n",
    "    if car == 'motorcycle':\n",
    "        for x in range(len(lot)):\n",
    "            if 'M' in lot[x]:\n",
    "                return [lot[x].index('M'),x]\n",
    "            elif 'S' in lot[x]:\n",
    "                return [lot[x].index('S'),x]\n",
    "            elif 'R' in lot[x]:\n",
    "                return [lot[x].index('R'),x]\n",
    "        else:\n",
    "            return False\n",
    "        \n",
    "    \n",
    "print(whereCanIPark(\n",
    "  [\n",
    "    # COLUMNS ARE X\n",
    "    # 0    1    2    3    4    5\n",
    "    ['s', 's', 's', 'S', 'R', 'M'], # 0 ROWS ARE Y\n",
    "    ['s', 'M', 's', 'S', 'r', 'M'], # 1\n",
    "    ['s', 'M', 's', 'S', 'r', 'm'], # 2\n",
    "    ['S', 'r', 's', 'm', 'r', 'M'], # 3\n",
    "    ['S', 'r', 's', 'm', 'r', 'M'], # 4\n",
    "    ['S', 'r', 'S', 'M', 'M', 'S']  # 5\n",
    "  ],\n",
    "  'regular'\n",
    "))\n",
    "\n",
    "print(whereCanIPark(\n",
    "  [\n",
    "    ['M', 'M', 'M', 'M'],\n",
    "    ['M', 's', 'M', 'M'],\n",
    "    ['M', 'M', 'M', 'M'],\n",
    "    ['M', 'M', 'r', 'M']\n",
    "  ],\n",
    "  'small'\n",
    "))\n",
    "\n",
    "print(whereCanIPark(\n",
    "  [\n",
    "    ['s', 's', 's', 's', 's', 's'],\n",
    "    ['s', 'm', 's', 'S', 'r', 's'],\n",
    "    ['s', 'm', 's', 'S', 'r', 's'],\n",
    "    ['S', 'r', 's', 'm', 'r', 's'],\n",
    "    ['S', 'r', 's', 'm', 'R', 's'],\n",
    "    ['S', 'r', 'S', 'M', 'm', 'S']\n",
    "  ],\n",
    "  'motorcycle'\n",
    "))\n",
    "    "
   ]
  }
 ],
 "metadata": {
  "kernelspec": {
   "display_name": "Python 3",
   "language": "python",
   "name": "python3"
  },
  "language_info": {
   "codemirror_mode": {
    "name": "ipython",
    "version": 3
   },
   "file_extension": ".py",
   "mimetype": "text/x-python",
   "name": "python",
   "nbconvert_exporter": "python",
   "pygments_lexer": "ipython3",
   "version": "3.8.8"
  }
 },
 "nbformat": 4,
 "nbformat_minor": 5
}
