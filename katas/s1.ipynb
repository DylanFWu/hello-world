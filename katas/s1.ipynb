{
 "cells": [
  {
   "cell_type": "code",
   "execution_count": 8,
   "id": "c1c56f28-2a61-4147-ba99-9e7fa9a55dc4",
   "metadata": {},
   "outputs": [
    {
     "name": "stdout",
     "output_type": "stream",
     "text": [
      "1111111111\n",
      "11, 222\n",
      "10101010, 343434343434, 9292\n"
     ]
    }
   ],
   "source": [
    "def repeatNumbers(lst):\n",
    "    if len(lst) == 1:\n",
    "        return str(lst[0][0])*lst[0][1]\n",
    "    else:\n",
    "        let = ''\n",
    "        for x in range(len(lst)):\n",
    "            let += (str(lst[x][0])*lst[x][1]) + ', '\n",
    "        let = let[:-2]\n",
    "        return let\n",
    "    \n",
    "    \n",
    "    \n",
    "\n",
    "print(repeatNumbers([[1, 10]]))\n",
    "print(repeatNumbers([[1, 2], [2, 3]]))\n",
    "print(repeatNumbers([[10, 4], [34, 6], [92, 2]]))        "
   ]
  },
  {
   "cell_type": "code",
   "execution_count": null,
   "id": "497d8d9a-4bef-465f-98e7-e484365fc78b",
   "metadata": {},
   "outputs": [],
   "source": []
  }
 ],
 "metadata": {
  "kernelspec": {
   "display_name": "Python 3",
   "language": "python",
   "name": "python3"
  },
  "language_info": {
   "codemirror_mode": {
    "name": "ipython",
    "version": 3
   },
   "file_extension": ".py",
   "mimetype": "text/x-python",
   "name": "python",
   "nbconvert_exporter": "python",
   "pygments_lexer": "ipython3",
   "version": "3.8.8"
  }
 },
 "nbformat": 4,
 "nbformat_minor": 5
}
