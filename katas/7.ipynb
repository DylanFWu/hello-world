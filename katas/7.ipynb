{
 "cells": [
  {
   "cell_type": "code",
   "execution_count": 3,
   "id": "6060ebeb-1645-4fa9-b76d-9e7dcdfc0976",
   "metadata": {},
   "outputs": [
    {
     "name": "stdout",
     "output_type": "stream",
     "text": [
      "Polluted\n",
      "Polluted\n",
      "Clean\n"
     ]
    }
   ],
   "source": [
    "def checkAir(lst,tar):\n",
    "    count = 0\n",
    "    for x in lst:\n",
    "        if x == 'dirty':\n",
    "            count += 1\n",
    "    if count/len(lst) > tar:\n",
    "        return 'Polluted'\n",
    "    else:\n",
    "        return 'Clean'\n",
    "    \n",
    "\n",
    "\n",
    "print(checkAir(\n",
    "  ['clean', 'clean', 'dirty', 'clean', 'dirty', 'clean', 'clean', 'dirty', 'clean', 'dirty'],\n",
    "  0.3\n",
    "))\n",
    "\n",
    "print(checkAir(\n",
    "  ['dirty', 'dirty', 'dirty', 'dirty', 'clean'],\n",
    "  0.25\n",
    "))\n",
    "\n",
    "print(checkAir(\n",
    "  ['clean', 'dirty', 'clean', 'dirty', 'clean', 'dirty', 'clean'],\n",
    "  0.9\n",
    "))"
   ]
  },
  {
   "cell_type": "code",
   "execution_count": null,
   "id": "bbd849d5-3094-4de2-b317-3826f0ddb183",
   "metadata": {},
   "outputs": [],
   "source": []
  }
 ],
 "metadata": {
  "kernelspec": {
   "display_name": "Python 3",
   "language": "python",
   "name": "python3"
  },
  "language_info": {
   "codemirror_mode": {
    "name": "ipython",
    "version": 3
   },
   "file_extension": ".py",
   "mimetype": "text/x-python",
   "name": "python",
   "nbconvert_exporter": "python",
   "pygments_lexer": "ipython3",
   "version": "3.8.8"
  }
 },
 "nbformat": 4,
 "nbformat_minor": 5
}
