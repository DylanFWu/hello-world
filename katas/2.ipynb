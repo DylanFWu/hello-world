{
 "cells": [
  {
   "cell_type": "code",
   "execution_count": 12,
   "id": "aa7d482a-198a-4aee-8ad1-8f3652be4162",
   "metadata": {},
   "outputs": [
    {
     "name": "stdout",
     "output_type": "stream",
     "text": [
      "The even numbers add up to: 6\n",
      "The odd numbers add up to: 9\n",
      "The even numbers add up to: 144\n",
      "The odd numbers add up to: 0\n",
      "Please use either the condition \"odd\" or \"even\"\n"
     ]
    }
   ],
   "source": [
    "def conditionalSum(lst,cond):\n",
    "    even = 0\n",
    "    odd = 0\n",
    "    for x in lst:\n",
    "        if x % 2 == 0:\n",
    "            even += x\n",
    "        else:\n",
    "            odd += x\n",
    "    if cond == 'even':\n",
    "        return 'The even numbers add up to: {}'.format(even)\n",
    "    elif cond == 'odd':\n",
    "        return 'The odd numbers add up to: {}'.format(odd)\n",
    "    else:\n",
    "        return 'Please use either the condition \"odd\" or \"even\"'\n",
    "        \n",
    "        \n",
    "        \n",
    "print(conditionalSum([1, 2, 3, 4, 5], \"even\"))\n",
    "print(conditionalSum([1, 2, 3, 4, 5], \"odd\"))\n",
    "print(conditionalSum([13, 88, 12, 44, 99], \"even\"))\n",
    "print(conditionalSum([], \"odd\"))\n",
    "print(conditionalSum([4,56,2,12,6431,34], 'wup'))"
   ]
  }
 ],
 "metadata": {
  "kernelspec": {
   "display_name": "Python 3",
   "language": "python",
   "name": "python3"
  },
  "language_info": {
   "codemirror_mode": {
    "name": "ipython",
    "version": 3
   },
   "file_extension": ".py",
   "mimetype": "text/x-python",
   "name": "python",
   "nbconvert_exporter": "python",
   "pygments_lexer": "ipython3",
   "version": "3.8.8"
  }
 },
 "nbformat": 4,
 "nbformat_minor": 5
}
